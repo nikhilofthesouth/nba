{
 "cells": [
  {
   "cell_type": "code",
   "execution_count": 1,
   "metadata": {
    "collapsed": true
   },
   "outputs": [],
   "source": [
    "import csv\n",
    "import urllib.request\n",
    "\n",
    "from bs4 import BeautifulSoup"
   ]
  },
  {
   "cell_type": "code",
   "execution_count": 2,
   "metadata": {
    "collapsed": false
   },
   "outputs": [],
   "source": [
    "HEADER = ['MP', 'FG', 'FGA', 'FG%', '3P', '3PA', '3P%', 'FT', 'FTA', 'FT%', 'ORB', 'DRB', 'TRB', 'AST', 'STL', 'BLK', 'TOV', 'PF', 'PTS', 'GmSc', '+/-']\n",
    "WHITELIST = ['mp', 'fg', 'fga', 'fg_pct', 'fg3', 'fg3a', 'fg3_pct', 'ft', 'fta', 'ft_pct', 'orb', 'drb', 'trb', 'ast', 'stl', 'blk', 'tov', 'pf', 'pts', 'game_score', 'plus_minus']"
   ]
  },
  {
   "cell_type": "code",
   "execution_count": 3,
   "metadata": {
    "collapsed": true
   },
   "outputs": [],
   "source": [
    "def player_url(player, year):\n",
    "    return \"http://www.basketball-reference.com/players/{}/{}01/gamelog/{}\".format(player[0], player, year)"
   ]
  },
  {
   "cell_type": "code",
   "execution_count": 4,
   "metadata": {
    "collapsed": false
   },
   "outputs": [],
   "source": [
    "def do_year(year):\n",
    "    player = 'jamesle'\n",
    "    f = urllib.request.urlopen(player_url(player, year))\n",
    "    soup = BeautifulSoup(f, \"html5lib\")\n",
    "\n",
    "    results = soup.find(id='pgl_basic').find('tbody').find_all('tr')\n",
    "\n",
    "    f = open('{}_{}.csv'.format(player, year), 'w')\n",
    "    writer = csv.writer(f)\n",
    "    writer.writerow(HEADER)\n",
    "\n",
    "    for row in results:\n",
    "        pts = row.find('td', attrs={'data-stat': 'pts'})\n",
    "        if not pts: continue\n",
    "        try:\n",
    "            int(pts.string)\n",
    "        except (ValueError, TypeError):\n",
    "            continue\n",
    "        attrs = row.find_all('td', attrs={'data-stat': WHITELIST})\n",
    "        strs = [x.string for x in attrs]\n",
    "        writer.writerow(strs)\n",
    "\n",
    "    f.close()\n",
    "    return year"
   ]
  },
  {
   "cell_type": "code",
   "execution_count": 5,
   "metadata": {
    "collapsed": false
   },
   "outputs": [
    {
     "data": {
      "text/plain": [
       "[2004, 2005, 2006, 2007, 2008, 2009, 2010, 2011, 2012, 2013, 2014, 2015, 2016]"
      ]
     },
     "execution_count": 5,
     "metadata": {},
     "output_type": "execute_result"
    }
   ],
   "source": [
    "years = range(2004, 2017)\n",
    "[do_year(year) for year in years]"
   ]
  },
  {
   "cell_type": "code",
   "execution_count": null,
   "metadata": {
    "collapsed": true
   },
   "outputs": [],
   "source": []
  }
 ],
 "metadata": {
  "kernelspec": {
   "display_name": "Python 3",
   "language": "python",
   "name": "python3"
  },
  "language_info": {
   "codemirror_mode": {
    "name": "ipython",
    "version": 3
   },
   "file_extension": ".py",
   "mimetype": "text/x-python",
   "name": "python",
   "nbconvert_exporter": "python",
   "pygments_lexer": "ipython3",
   "version": "3.6.0"
  }
 },
 "nbformat": 4,
 "nbformat_minor": 2
}
